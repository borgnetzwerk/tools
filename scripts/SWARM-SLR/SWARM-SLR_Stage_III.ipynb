{
 "cells": [
  {
   "cell_type": "markdown",
   "metadata": {},
   "source": [
    "# Stage III\n",
    "This stage is at the heart of a literature review. It is where new information is derived and synthesized. While tools can assist in information extraction and  structuring this information, the researchers insight is defining this stage.\n",
    "\n",
    "**Workload distribution**\n",
    "\n",
    "|Actor|Time|\n",
    "|:----|:----|\n",
    "|Researcher|? min|\n",
    "\n",
    "**Tools**\n",
    "* Research Annotation Database (e.g. [ORKG](https://orkg.org/))\n",
    "* Markdown file viewer (e.g. [Obsidian](https://obsidian.md/) with [Dataview](https://github.com/blacksmithgu/obsidian-dataview) plugin)"
   ]
  },
  {
   "cell_type": "markdown",
   "metadata": {},
   "source": [
    "## Task 6: Analysis\n",
    "|Step|Result|Requirement|\n",
    ":----|:----|:----|\n",
    "|Resource annotation|contribution representation|49. annotate the document<br>50. represent the annotation machine-readable<br>51. annotate collaboratively|\n"
   ]
  },
  {
   "cell_type": "markdown",
   "metadata": {},
   "source": [
    "### Step 6.1 Resource annotation\n",
    "**Requirements:**\n",
    "* annotate the document\n",
    "* represent the annotation machine-readable\n",
    "* annotate collaboratively\n",
    "\n",
    "While this step puts emphasis on structured annotation, it is advised to start a significant portion of the work in a flexible environment. During the course of extracting information, the structure required to best represent this information is likely to change iteratively. \n",
    "\n",
    "|Step|PDF reader<br>e.g. [Acrobat Reader](https://www.adobe.com/de/acrobat/pdf-reader.html)|Markdown editor<br>e.g. [Obsidian](https://obsidian.md/)|Spreadsheet editor<br>e.g. [Excel](https://www.microsoft.com/de-de/microsoft-365/excel), [Google Sheets](https://docs.google.com/spreadsheets)|Konwledge graph editor<br>e.g. [ORKG](https://orkg.org/)|\n",
    ":----|:----|:----|:----|:----|\n",
    "|ease of use|++|+|++|+-|\n",
    "|flexible format|-|++|+|+-|\n",
    "|structured data|-|+-|+|++|\n",
    "|interoperable data|--|--|++|++|\n",
    "|collaborative annotation|--|--|+-|++|\n",
    "\n",
    "SWARM-SLR advises to work use a variety of tools and work towards more structured data, while making use of ease of use and flexibility:\n",
    "\n",
    "<div align=\"center\">\n",
    "<img src=\"images/Task 6 - 01 Obsidian RQ.png\" width=\"95%\" />\n",
    "<figcaption>Obsidian overview of the analyzed library. The right side depicts the documents (nodes) and their similarity to other documents (edges). The nodes are colored based on their relevance on average (green), or to a research question (RQ) (here: RQ1 red, RQ2 blue). The left side shows the RQ1-file. Each RQ representation displays the documents that scored highest for the RQ's respective weighed keywords.</figcaption>\n",
    "</div>\n",
    "\n",
    "<br>\n",
    "\n",
    "<div align=\"center\">\n",
    "<img src=\"images/Task 6 - 02 Obsidian Document.png\" width=\"95%\" />\n",
    "<figcaption>Obsidian document view. The left side displays a document-representation, containing metadata, extracted information and an embedded file viewer. This document can be used to annotate, create and link any form of digital annotation, such as screenshots, graphics, calculations, links, etc.</figcaption>\n",
    "</div>\n",
    "\n",
    "<br>\n",
    "\n",
    "<div align=\"center\">\n",
    "<img src=\"images/Task 6 - 03 Obsidian Total.png\" width=\"95%\" />\n",
    "<figcaption>Obsidian progress tracking. The left side shows more of the a document-representation, which also lists the most similar documents and their respective scores. The right side depicts the \"Total\" tab, providing an overview over all research questions and a progress tracking for the entire SWARM-SLR. With each annotated document, the researcher progresses through the \"Best Candidates\" stack.</figcaption>\n",
    "</div>\n",
    "\n",
    "<br>\n",
    "\n",
    "<div align=\"center\">\n",
    "<img src=\"images/Task 6 - 04 Obsidian Annotation.png\" width=\"95%\" />\n",
    "<figcaption>Obsidian document annotation. The left side shows an annotated document including quotes and screenshots. By marking it as \"Work in Progress\", it gets moved from the \"Best Candidates\" to \"Modified\". Once it is marked as \"Paper read and Contribution completed\", it is listed under \"Done\".</figcaption>\n",
    "</div>\n",
    "\n",
    "<br>\n",
    "\n",
    "<div>\n",
    "<div style=\"display: flex; justify-content: center;\">\n",
    "<img src=\"images/Task 6 - 04 Obsidian Annotation.png\" width=\"45%\" />\n",
    "<img src=\"images/Task 6 - 06 Spreadsheet.png\" width=\"45%\" />\n",
    "</div>\n",
    "<figcaption>By using Obsidian and the embedded PDF viewer, the researcher can get a better feeling for the required data structure. Iteratively and without loosing annotation from earlier stages, the researcher can progress towards a structured <a href=\"https://docs.google.com/spreadsheets/d/1KUMSeq_Pzp4KveZ7pb5rddcssk1XBTiLHniD0d3nDqo/edit#gid=0\">spreadsheet</a>, without modelling out the semantic structure a priori.\n",
    "</div>\n"
   ]
  },
  {
   "cell_type": "markdown",
   "metadata": {},
   "source": [
    "## Task 7: Synthesis\n",
    "|Step|Result|Requirement|\n",
    ":----|:----|:----|\n",
    "|Compare contributions|comparison|52. define comparison properties<br>53. insert contribution values|\n",
    "|Craft arguments based on findings|document claims|54. identify evidence (data)<br>55. establish warrant|\n",
    "|Critique the literature|thesis claims|56. identify evidence (claims)<br>57. identify patterns<br>58. detect fallacies<br>59. identify conflicts<br>60. resolve conflicts|"
   ]
  },
  {
   "cell_type": "markdown",
   "metadata": {},
   "source": [
    "### Step 7.1 Compare contributions\n",
    "**Requirements:**\n",
    "* define comparison properties\n",
    "* insert contribution values\n",
    "<div>\n",
    "    <div style=\"display: flex; justify-content: center;\">\n",
    "        <img src=\"images/Task 6 - 06 Spreadsheet.png\" width=\"45%\" />\n",
    "        <img src=\"images/Task 7 - 01 Knowledge Graph.png\" width=\"45%\" />\n",
    "    </div>\n",
    "At any point in time, the researcher can start and iterate on their data model, and once iterations stagnate and <b>comparison properties are defined</b>, they can progress towards the next stage, from (local) <a href=\"https://docs.google.com/spreadsheets/d/1KUMSeq_Pzp4KveZ7pb5rddcssk1XBTiLHniD0d3nDqo/edit#gid=0\">spreadsheet</a> to a global <a href=\"https://orkg.org/comparison/R659134/\">knowledge graph</a>.\n",
    "</div>\n",
    "\n",
    "<br>\n",
    "\n",
    "<img style=\"float: right; margin: 20px;\" src=\"images/Task 7 - 02 ORKG features.png\" width=\"55%\">\n",
    "\n",
    "By using the [ORKG import tools](https://orkg.org/tools), there are different equally viable workflows:\n",
    "* If the **spreadsheet** contains all columns (properties), documents and their respective contributions (values), the [csv-import](https://orkg.org/csv-import) is a very viable tool, converting large portions of relational data to graph structure.\n",
    "* If the **ORKG features** such as structured [lists](https://orkg.org/list/new) and [PDF text annotation](https://orkg.org/pdf-text-annotation) are prefered, the knowledge graph can also be utilized once the spreadsheet modeling stagnates. This allows the creation of a [template](https://orkg.org/template/), streamlining the [adding](https://orkg.org/add-paper) and [editing](https://orkg.org/contribution-editor) of documents."
   ]
  },
  {
   "cell_type": "markdown",
   "metadata": {},
   "source": [
    "### Step 7.2 Craft arguments based on findings\n",
    "**Requirements:**\n",
    "* identify evidence (data)\n",
    "* establish warrant"
   ]
  },
  {
   "cell_type": "markdown",
   "metadata": {},
   "source": [
    "### Step 7.3 Critique the literature\n",
    "**Requirements:**\n",
    "* identify evidence (claims)\n",
    "* identify patterns\n",
    "* detect fallacies\n",
    "* identify conflicts\n",
    "* resolve conflicts "
   ]
  }
 ],
 "metadata": {
  "language_info": {
   "name": "python"
  }
 },
 "nbformat": 4,
 "nbformat_minor": 2
}
