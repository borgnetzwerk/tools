{
 "cells": [
  {
   "cell_type": "markdown",
   "metadata": {},
   "source": [
    "# SWIM"
   ]
  },
  {
   "cell_type": "markdown",
   "metadata": {},
   "source": [
    "\n",
    "## Stage IV"
   ]
  },
  {
   "cell_type": "markdown",
   "metadata": {},
   "source": [
    "### Task 8: Reporting\n",
    "|Task|Step|Result|Requirement|\n",
    "|:----|:----|:----|:----|\n",
    "|Reporting|write literature review|review article|61. utilise comparisons<br>62. support claims<br>63. establish outline<br>64. draft iteration(s)<br>65. audit iteration(s)<br>66. represent the review machine-readable|"
   ]
  },
  {
   "cell_type": "markdown",
   "metadata": {},
   "source": [
    "#### Write literature review\n",
    "**Requirements:**\n",
    "* utlise comparisons\n",
    "* support claims\n",
    "* establish outline\n",
    "* draft iterations\n",
    "* audit iterations\n",
    "* represent the review machine-readable"
   ]
  },
  {
   "cell_type": "code",
   "execution_count": null,
   "metadata": {},
   "outputs": [],
   "source": []
  }
 ],
 "metadata": {
  "language_info": {
   "name": "python"
  }
 },
 "nbformat": 4,
 "nbformat_minor": 2
}
