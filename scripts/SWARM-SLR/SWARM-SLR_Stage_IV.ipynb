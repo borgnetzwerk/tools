{
 "cells": [
  {
   "cell_type": "markdown",
   "metadata": {},
   "source": [
    "# Stage IV\n",
    "This stage produces the human- and machine-readable results and findings to be published for future researchers.\n",
    "\n",
    "**Workload distribution**\n",
    "\n",
    "|Actor|Time|\n",
    "|:----|:----|\n",
    "|Researcher|? min|\n",
    "|Reviewer|? min|\n",
    "\n",
    "**Tools**\n",
    "* Research Annotation Database (e.g. [ORKG](https://orkg.org/))\n",
    "* (LaTeX) document editor (e.g. [Overleaf](https://www.overleaf.com/))\n",
    "    * machine-readability support (e.g. [SciKGTeX](https://github.com/Christof93/SciKGTeX))"
   ]
  },
  {
   "cell_type": "markdown",
   "metadata": {},
   "source": [
    "## Task 8: Reporting\n",
    "\n",
    "|Task|Step|Result|Requirement|\n",
    "|:----|:----|:----|:----|\n",
    "|Reporting|write literature review|review article|61. utilise comparisons<br>62. support claims<br>63. establish outline<br>64. draft iteration(s)<br>65. audit iteration(s)<br>66. represent the review machine-readable|"
   ]
  },
  {
   "cell_type": "markdown",
   "metadata": {},
   "source": [
    "### Step 8.1 Write literature review\n",
    "**Requirements:**\n",
    "* utlise comparisons\n",
    "* support claims\n",
    "* establish outline\n",
    "* draft iterations\n",
    "* audit iterations\n",
    "* represent the review machine-readable\n",
    "\n",
    "Once Stage 4 and hence task 8 is reached, all data, evidence and claims should already be present. This usually also includes ORKG comparisons, which are both a tool for getting an overview over the discovered data as well as an visualization for the final review. For this matter, a differentiation between different types of reporting is warrant:\n",
    "\n",
    "1. Bound document, such as a PDF for a published paper, journal article or thesis.\n",
    "2. Machine-readable representation, such as an ORKG Review.\n",
    "\n",
    "While (1) is the current standard, the (2) can enables true computer supported collaborative work (CSCW), allowing the scientific endeavour of the SWARM-SLR to remain [FAIR](https://www.go-fair.org/fair-principles/). Since all effort done towards (2) also aids (1), this documentation starts there."
   ]
  },
  {
   "cell_type": "markdown",
   "metadata": {},
   "source": [
    "#### ORKG Review\n",
    "[Example](https://orkg.org/review/R643100)\n",
    "\n"
   ]
  }
 ],
 "metadata": {
  "language_info": {
   "name": "python"
  }
 },
 "nbformat": 4,
 "nbformat_minor": 2
}
