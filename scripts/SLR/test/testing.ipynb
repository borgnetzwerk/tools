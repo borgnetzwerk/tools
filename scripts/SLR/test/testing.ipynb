{
 "cells": [
  {
   "cell_type": "code",
   "execution_count": 1,
   "metadata": {},
   "outputs": [],
   "source": [
    "import time\n",
    "\n",
    "def time_function(func):\n",
    "    def wrapper(*args, **kwargs):\n",
    "        appendix = \"\"\n",
    "        # if instances in args:\n",
    "        if \"instances\" in kwargs:\n",
    "            # append len of instances\n",
    "            appendix = f\"({len(kwargs['instances'])} instances\"\n",
    "        if \"papers\" in kwargs:\n",
    "            if appendix:\n",
    "                appendix += \", \"\n",
    "            appendix += f\"{len(kwargs['papers'])} papers\"\n",
    "        if appendix:\n",
    "            appendix += \")\"\n",
    "        start_time = time.time()\n",
    "        result = func(*args, **kwargs)\n",
    "        end_time = time.time()\n",
    "        print(f\"{func.__name__} executed in {end_time - start_time} seconds\" + appendix)\n",
    "        return result\n",
    "    return wrapper"
   ]
  },
  {
   "cell_type": "code",
   "execution_count": 2,
   "metadata": {},
   "outputs": [],
   "source": [
    "# testing time it takes to lookup frozenset in dict\n",
    "@time_function\n",
    "def frozen_time_test():\n",
    "    test_dict = {}\n",
    "    for i in range(100000):\n",
    "        test_dict[frozenset([str(i)])] = i\n",
    "    for i in range(100000):\n",
    "        if frozenset([str(i)]) in test_dict:\n",
    "            pass\n",
    "\n",
    "frozen_dict = {}\n",
    "for i in range(100000):\n",
    "    frozen_dict[frozenset([str(i)])] = i\n",
    "\n",
    "frozen_list = [frozenset([str(i)]) for i in range(100000)]\n",
    "\n",
    "@time_function\n",
    "def frozen_pre_test():\n",
    "    for i in range(100000):\n",
    "        if frozen_list[i] in frozen_dict:\n",
    "            pass\n",
    "\n",
    "@time_function\n",
    "def string_time_test():\n",
    "    test_dict = {}\n",
    "    for i in range(100000):\n",
    "        test_dict[str(i)] = i\n",
    "    for i in range(100000):\n",
    "        if str(i) in test_dict:\n",
    "            pass\n",
    "\n",
    "@time_function\n",
    "def integer_time_test():\n",
    "    test_dict = {}\n",
    "    for i in range(100000):\n",
    "        test_dict[i] = i\n",
    "    for i in range(100000):\n",
    "        if i in test_dict:\n",
    "            pass\n",
    "\n",
    "@time_function\n",
    "def join_time_test():\n",
    "    test_dict = {}\n",
    "    for i in range(100000):\n",
    "        test_dict[str(i) + \" num\"] = i\n",
    "    for i in range(100000):\n",
    "        if str(i) + \" num\" in test_dict:\n",
    "            pass\n",
    "\n",
    "\n",
    "# Pre-generated keys for string_time_test\n",
    "string_list = [str(i) for i in range(100000)]\n",
    "string_dict = {str(i): i for i in range(100000)}\n",
    "\n",
    "@time_function\n",
    "def string_pre_test():\n",
    "    for i in range(100000):\n",
    "        if string_list[i] in string_dict:\n",
    "            pass\n",
    "\n",
    "# Pre-generated keys for integer_time_test\n",
    "integer_list = list(range(100000))\n",
    "integer_dict = {i: i for i in range(100000)}\n",
    "\n",
    "@time_function\n",
    "def integer_pre_test():\n",
    "    for i in range(100000):\n",
    "        if integer_list[i] in integer_dict:\n",
    "            pass\n",
    "\n",
    "# Pre-generated keys for join_time_test\n",
    "join_list = [str(i) + \" num\" for i in range(100000)]\n",
    "join_dict = {str(i) + \" num\": i for i in range(100000)}\n",
    "\n",
    "@time_function\n",
    "def join_pre_test():\n",
    "    for i in range(100000):\n",
    "        if join_list[i] in join_dict:\n",
    "            pass"
   ]
  },
  {
   "cell_type": "code",
   "execution_count": 3,
   "metadata": {},
   "outputs": [
    {
     "name": "stdout",
     "output_type": "stream",
     "text": [
      "frozen_pre_test executed in 0.017003536224365234 seconds\n",
      "string_pre_test executed in 0.010003089904785156 seconds\n",
      "integer_pre_test executed in 0.005000114440917969 seconds\n",
      "join_pre_test executed in 0.012002706527709961 seconds\n"
     ]
    }
   ],
   "source": [
    "frozen_pre_test()\n",
    "string_pre_test()\n",
    "integer_pre_test()\n",
    "join_pre_test()"
   ]
  },
  {
   "cell_type": "code",
   "execution_count": 4,
   "metadata": {},
   "outputs": [
    {
     "name": "stdout",
     "output_type": "stream",
     "text": [
      "frozen_time_test executed in 0.17003798484802246 seconds\n",
      "string_time_test executed in 0.03400826454162598 seconds\n",
      "integer_time_test executed in 0.012002706527709961 seconds\n",
      "join_time_test executed in 0.04801154136657715 seconds\n"
     ]
    }
   ],
   "source": [
    "frozen_time_test()\n",
    "string_time_test()\n",
    "integer_time_test()\n",
    "join_time_test()"
   ]
  },
  {
   "cell_type": "code",
   "execution_count": 5,
   "metadata": {},
   "outputs": [],
   "source": [
    "def split_string(input_string, delimiters = [\" \", \"-\", \"_\"]):\n",
    "    for delimiter in delimiters:\n",
    "        input_string = \" \".join(input_string.split(delimiter))\n",
    "    return input_string.split()"
   ]
  },
  {
   "cell_type": "code",
   "execution_count": 6,
   "metadata": {},
   "outputs": [],
   "source": [
    "# setup\n",
    "# init a 500x500 matrix of empty lists\n",
    "# init a list of 500 random words\n",
    "with open(\"MVP/instances.txt\", \"r\") as file:\n",
    "    instances = file.readlines()\n",
    "word_combinations = {}\n",
    "\n",
    "\n",
    "words = {}\n",
    "for instance in instances:\n",
    "    for word in split_string(instance):\n",
    "        if word not in words:\n",
    "            words[word] = len(words) \n",
    "\n",
    "word_combination_index_literal_literal = [[[] for _ in range(500)] for _ in range(500)]\n",
    "\n",
    "\n",
    "for id1, literal1 in enumerate(instances):\n",
    "    for id2 in range(id1 + 1, len(instances)):\n",
    "        literal2 = instances[id2]\n",
    "        # Use a sorted tuple for consistent ordering\n",
    "        froz = frozenset(split_string(literal1) + split_string(literal2))\n",
    "        # Check if the combination is already in the dictionary\n",
    "        word_indizes = word_combinations.get(froz, -1)\n",
    "        if word_indizes == -1:\n",
    "            word_indizes = [words[word] for word in froz]\n",
    "            word_combinations[froz] = word_indizes\n",
    "        # Update the matrix with the index of the combination\n",
    "        word_combination_index_literal_literal[id1][id2] = word_indizes\n",
    "        word_combination_index_literal_literal[id2][id1] = word_indizes"
   ]
  },
  {
   "cell_type": "code",
   "execution_count": 7,
   "metadata": {},
   "outputs": [],
   "source": [
    "def find_via_frozen_sets(literal1, literal2):\n",
    "    froz = frozenset(split_string(literal1) + split_string(literal2))\n",
    "    return word_combinations.get(froz, [])\n",
    "\n",
    "def find_via_index(l1, l2):\n",
    "    return word_combination_index_literal_literal[l1][l2]"
   ]
  },
  {
   "cell_type": "code",
   "execution_count": 8,
   "metadata": {},
   "outputs": [],
   "source": [
    "# test both 10000000 times and compare time\n",
    "@time_function\n",
    "def test_frozen(run = 100):\n",
    "    for i in range(run):\n",
    "        for i, instance in enumerate(instances):\n",
    "            for j in range(i + 1, len(instances)):\n",
    "                find_via_frozen_sets(instance, instances[j])\n",
    "\n",
    "@time_function\n",
    "def test_index(run = 100):\n",
    "    for i in range(run):\n",
    "        for i in range(len(instances)):\n",
    "            for j in range(i + 1, len(instances)):\n",
    "                find_via_index(i, j)"
   ]
  },
  {
   "cell_type": "code",
   "execution_count": 9,
   "metadata": {},
   "outputs": [],
   "source": [
    "# test = [1, 2, 4, 8, 16, 32, 64]\n",
    "\n",
    "# for id, run in enumerate(test):\n",
    "#     print(f\"Run {run}\")\n",
    "#     if id % 2 == 0:\n",
    "#         test_index(run)\n",
    "#         test_frozen(run)\n",
    "#     else:  \n",
    "#         test_frozen(run)\n",
    "#         test_index(run)"
   ]
  },
  {
   "cell_type": "markdown",
   "metadata": {},
   "source": [
    "# Take-away\n",
    "## Frozensets neu berechnen dauert länger als einmal die kombinationen speichern."
   ]
  },
  {
   "cell_type": "code",
   "execution_count": 13,
   "metadata": {},
   "outputs": [
    {
     "name": "stdout",
     "output_type": "stream",
     "text": [
      "dict_test executed in 0.005001068115234375 seconds\n",
      "value_test executed in 44.96441173553467 seconds\n",
      "list_test executed in 0.003002166748046875 seconds\n"
     ]
    }
   ],
   "source": [
    "test_dict = {i: i for i in range(100000)}\n",
    "test_list = list(range(100000))\n",
    "\n",
    "@time_function\n",
    "def dict_test(run = 100):\n",
    "    for a in range(run):\n",
    "        b = test_dict[a]\n",
    "\n",
    "@time_function\n",
    "def value_test(run = 100):\n",
    "    for a in range(run):\n",
    "        b = list(test_dict.values())[a]\n",
    "\n",
    "from itertools import islice\n",
    "\n",
    "@time_function\n",
    "def slice_test(run = 100):\n",
    "    for a in range(run):\n",
    "        b = next(islice(test_dict.values(), a, None))\n",
    "\n",
    "@time_function\n",
    "def list_test(run = 100):\n",
    "    for a in range(run):\n",
    "        b = test_list[a]\n",
    "\n",
    "run = 10000\n",
    "dict_test(run)\n",
    "value_test(run)\n",
    "slice_test(run)\n",
    "list_test(run)"
   ]
  },
  {
   "cell_type": "markdown",
   "metadata": {},
   "source": []
  }
 ],
 "metadata": {
  "kernelspec": {
   "display_name": ".venv",
   "language": "python",
   "name": "python3"
  },
  "language_info": {
   "codemirror_mode": {
    "name": "ipython",
    "version": 3
   },
   "file_extension": ".py",
   "mimetype": "text/x-python",
   "name": "python",
   "nbconvert_exporter": "python",
   "pygments_lexer": "ipython3",
   "version": "3.11.6"
  }
 },
 "nbformat": 4,
 "nbformat_minor": 2
}
