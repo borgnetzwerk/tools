{
 "cells": [
  {
   "cell_type": "code",
   "execution_count": 1,
   "metadata": {},
   "outputs": [],
   "source": [
    "from code_config import Config\n",
    "# Usage\n",
    "config = Config(for_git=True)"
   ]
  },
  {
   "cell_type": "code",
   "execution_count": 2,
   "metadata": {},
   "outputs": [],
   "source": [
    "# from code_builder import Director, Builder\n",
    "# from code_helper import index_all, split_string, path_cleaning, time_function\n",
    "# from code_ontology import Ontology, KnowledgeGraphEntryFactory, KnowledgeGraphEntry, InstanceType, Instance\n",
    "from code_obsidian import ObsidianFolderBuilder\n",
    "from code_ontology import Ontology"
   ]
  },
  {
   "cell_type": "code",
   "execution_count": 3,
   "metadata": {},
   "outputs": [],
   "source": [
    "ontology = Ontology()\n",
    "ontology.load(config)\n",
    "ontology.save(config)"
   ]
  },
  {
   "cell_type": "code",
   "execution_count": 4,
   "metadata": {},
   "outputs": [
    {
     "name": "stdout",
     "output_type": "stream",
     "text": [
      "Loaded Obsidian folder:\n",
      "number of tempaltes: 2 (Class, Instance)\n",
      "number of classes: 6\n",
      "number of instances: 570\n",
      "Populating Obsidian folder\n",
      "Added 570 instances and 6 classes to Obsidian folder\n"
     ]
    }
   ],
   "source": [
    "builder = ObsidianFolderBuilder(config=config)\n",
    "builder.build()"
   ]
  }
 ],
 "metadata": {
  "kernelspec": {
   "display_name": ".venv",
   "language": "python",
   "name": "python3"
  },
  "language_info": {
   "codemirror_mode": {
    "name": "ipython",
    "version": 3
   },
   "file_extension": ".py",
   "mimetype": "text/x-python",
   "name": "python",
   "nbconvert_exporter": "python",
   "pygments_lexer": "ipython3",
   "version": "3.11.6"
  }
 },
 "nbformat": 4,
 "nbformat_minor": 2
}
