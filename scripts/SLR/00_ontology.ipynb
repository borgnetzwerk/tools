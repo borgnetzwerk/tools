{
 "cells": [
  {
   "cell_type": "code",
   "execution_count": 1,
   "metadata": {},
   "outputs": [],
   "source": [
    "from bnw_tools.SLR.config import Config\n",
    "# Usage\n",
    "config = Config()"
   ]
  },
  {
   "cell_type": "code",
   "execution_count": 9,
   "metadata": {},
   "outputs": [
    {
     "name": "stdout",
     "output_type": "stream",
     "text": [
      "Loaded Obsidian folder:\n",
      "number of tempaltes: 2 (Class, Instance)\n",
      "number of classes: 6\n",
      "number of instances: 606\n"
     ]
    },
    {
     "ename": "KeyboardInterrupt",
     "evalue": "",
     "output_type": "error",
     "traceback": [
      "\u001b[1;31m---------------------------------------------------------------------------\u001b[0m",
      "\u001b[1;31mKeyboardInterrupt\u001b[0m                         Traceback (most recent call last)",
      "Cell \u001b[1;32mIn[9], line 20\u001b[0m\n\u001b[0;32m     18\u001b[0m             \u001b[38;5;28;01mif\u001b[39;00m label \u001b[38;5;241m!=\u001b[39m instance_label:\n\u001b[0;32m     19\u001b[0m                 \u001b[38;5;28mprint\u001b[39m(\u001b[38;5;124mf\u001b[39m\u001b[38;5;124m\"\u001b[39m\u001b[38;5;124mLabel \u001b[39m\u001b[38;5;132;01m{\u001b[39;00mlabel\u001b[38;5;132;01m}\u001b[39;00m\u001b[38;5;124m different from instance label \u001b[39m\u001b[38;5;132;01m{\u001b[39;00minstance_label\u001b[38;5;132;01m}\u001b[39;00m\u001b[38;5;124m\"\u001b[39m)\n\u001b[1;32m---> 20\u001b[0m         data[class_][instance_label] \u001b[38;5;241m=\u001b[39m \u001b[43mv\u001b[49m\u001b[38;5;241m.\u001b[39m\u001b[38;5;18m__dict__\u001b[39m\n\u001b[0;32m     21\u001b[0m \u001b[38;5;28;01melse\u001b[39;00m:\n\u001b[0;32m     22\u001b[0m     other \u001b[38;5;241m=\u001b[39m \u001b[38;5;124m\"\u001b[39m\u001b[38;5;124mNO_CLASS\u001b[39m\u001b[38;5;124m\"\u001b[39m\n",
      "Cell \u001b[1;32mIn[9], line 20\u001b[0m\n\u001b[0;32m     18\u001b[0m             \u001b[38;5;28;01mif\u001b[39;00m label \u001b[38;5;241m!=\u001b[39m instance_label:\n\u001b[0;32m     19\u001b[0m                 \u001b[38;5;28mprint\u001b[39m(\u001b[38;5;124mf\u001b[39m\u001b[38;5;124m\"\u001b[39m\u001b[38;5;124mLabel \u001b[39m\u001b[38;5;132;01m{\u001b[39;00mlabel\u001b[38;5;132;01m}\u001b[39;00m\u001b[38;5;124m different from instance label \u001b[39m\u001b[38;5;132;01m{\u001b[39;00minstance_label\u001b[38;5;132;01m}\u001b[39;00m\u001b[38;5;124m\"\u001b[39m)\n\u001b[1;32m---> 20\u001b[0m         data[class_][instance_label] \u001b[38;5;241m=\u001b[39m \u001b[43mv\u001b[49m\u001b[38;5;241m.\u001b[39m\u001b[38;5;18m__dict__\u001b[39m\n\u001b[0;32m     21\u001b[0m \u001b[38;5;28;01melse\u001b[39;00m:\n\u001b[0;32m     22\u001b[0m     other \u001b[38;5;241m=\u001b[39m \u001b[38;5;124m\"\u001b[39m\u001b[38;5;124mNO_CLASS\u001b[39m\u001b[38;5;124m\"\u001b[39m\n",
      "File \u001b[1;32m_pydevd_bundle/pydevd_cython.pyx:1457\u001b[0m, in \u001b[0;36m_pydevd_bundle.pydevd_cython.SafeCallWrapper.__call__\u001b[1;34m()\u001b[0m\n",
      "File \u001b[1;32m_pydevd_bundle/pydevd_cython.pyx:701\u001b[0m, in \u001b[0;36m_pydevd_bundle.pydevd_cython.PyDBFrame.trace_dispatch\u001b[1;34m()\u001b[0m\n",
      "File \u001b[1;32m_pydevd_bundle/pydevd_cython.pyx:1395\u001b[0m, in \u001b[0;36m_pydevd_bundle.pydevd_cython.PyDBFrame.trace_dispatch\u001b[1;34m()\u001b[0m\n",
      "File \u001b[1;32m_pydevd_bundle/pydevd_cython.pyx:1344\u001b[0m, in \u001b[0;36m_pydevd_bundle.pydevd_cython.PyDBFrame.trace_dispatch\u001b[1;34m()\u001b[0m\n",
      "File \u001b[1;32m_pydevd_bundle/pydevd_cython.pyx:312\u001b[0m, in \u001b[0;36m_pydevd_bundle.pydevd_cython.PyDBFrame.do_wait_suspend\u001b[1;34m()\u001b[0m\n",
      "File \u001b[1;32mc:\\workspace\\borgnetzwerk\\tools\\.venv\\Lib\\site-packages\\debugpy\\_vendored\\pydevd\\pydevd.py:2070\u001b[0m, in \u001b[0;36mPyDB.do_wait_suspend\u001b[1;34m(self, thread, frame, event, arg, exception_type)\u001b[0m\n\u001b[0;32m   2067\u001b[0m             from_this_thread\u001b[38;5;241m.\u001b[39mappend(frame_custom_thread_id)\n\u001b[0;32m   2069\u001b[0m     \u001b[38;5;28;01mwith\u001b[39;00m \u001b[38;5;28mself\u001b[39m\u001b[38;5;241m.\u001b[39m_threads_suspended_single_notification\u001b[38;5;241m.\u001b[39mnotify_thread_suspended(thread_id, thread, stop_reason):\n\u001b[1;32m-> 2070\u001b[0m         keep_suspended \u001b[38;5;241m=\u001b[39m \u001b[38;5;28;43mself\u001b[39;49m\u001b[38;5;241;43m.\u001b[39;49m\u001b[43m_do_wait_suspend\u001b[49m\u001b[43m(\u001b[49m\u001b[43mthread\u001b[49m\u001b[43m,\u001b[49m\u001b[43m \u001b[49m\u001b[43mframe\u001b[49m\u001b[43m,\u001b[49m\u001b[43m \u001b[49m\u001b[43mevent\u001b[49m\u001b[43m,\u001b[49m\u001b[43m \u001b[49m\u001b[43marg\u001b[49m\u001b[43m,\u001b[49m\u001b[43m \u001b[49m\u001b[43msuspend_type\u001b[49m\u001b[43m,\u001b[49m\u001b[43m \u001b[49m\u001b[43mfrom_this_thread\u001b[49m\u001b[43m,\u001b[49m\u001b[43m \u001b[49m\u001b[43mframes_tracker\u001b[49m\u001b[43m)\u001b[49m\n\u001b[0;32m   2072\u001b[0m frames_list \u001b[38;5;241m=\u001b[39m \u001b[38;5;28;01mNone\u001b[39;00m\n\u001b[0;32m   2074\u001b[0m \u001b[38;5;28;01mif\u001b[39;00m keep_suspended:\n\u001b[0;32m   2075\u001b[0m     \u001b[38;5;66;03m# This means that we should pause again after a set next statement.\u001b[39;00m\n",
      "File \u001b[1;32mc:\\workspace\\borgnetzwerk\\tools\\.venv\\Lib\\site-packages\\debugpy\\_vendored\\pydevd\\pydevd.py:2106\u001b[0m, in \u001b[0;36mPyDB._do_wait_suspend\u001b[1;34m(self, thread, frame, event, arg, suspend_type, from_this_thread, frames_tracker)\u001b[0m\n\u001b[0;32m   2103\u001b[0m         \u001b[38;5;28mself\u001b[39m\u001b[38;5;241m.\u001b[39m_call_input_hook()\n\u001b[0;32m   2105\u001b[0m     \u001b[38;5;28mself\u001b[39m\u001b[38;5;241m.\u001b[39mprocess_internal_commands()\n\u001b[1;32m-> 2106\u001b[0m     time\u001b[38;5;241m.\u001b[39msleep(\u001b[38;5;241m0.01\u001b[39m)\n\u001b[0;32m   2108\u001b[0m \u001b[38;5;28mself\u001b[39m\u001b[38;5;241m.\u001b[39mcancel_async_evaluation(get_current_thread_id(thread), \u001b[38;5;28mstr\u001b[39m(\u001b[38;5;28mid\u001b[39m(frame)))\n\u001b[0;32m   2110\u001b[0m \u001b[38;5;66;03m# process any stepping instructions\u001b[39;00m\n",
      "\u001b[1;31mKeyboardInterrupt\u001b[0m: "
     ]
    }
   ],
   "source": [
    "from bnw_tools.SLR.builder import *\n",
    "obsidian_folder = ObsidianFolder(config=config)\n",
    "a=1\n",
    "# dump obsidian_folder.instances to json\n",
    "with open('obsidian_folder.json', 'w') as f:\n",
    "    data = {}\n",
    "    for instance_label, v in obsidian_folder.instances.items():\n",
    "\n",
    "        classes = v.get(\"instance_of\", [])\n",
    "        if classes:\n",
    "            if len(classes) > 1:\n",
    "                print(f\"Multiple classes for {instance_label}: {classes}\")\n",
    "            for class_ in classes:\n",
    "                if class_ not in data:\n",
    "                    data[class_] = {}\n",
    "                label = v.get(\"label\", None)\n",
    "                if label:\n",
    "                    if label != instance_label:\n",
    "                        # TODO: Find files where label and name are different\n",
    "                        print(f\"Label {label} different from instance label {instance_label}\")\n",
    "                data[class_][instance_label] = v.__dict__\n",
    "        else:\n",
    "            other = \"NO_CLASS\"\n",
    "            if other not in data:\n",
    "                data[other] = {}\n",
    "            data[other][instance_label] = v.__dict__\n",
    "        # data[k] = v.__dict__\n",
    "\n",
    "    \n",
    "    json.dump(data, f, indent=4)\n",
    "\n",
    "# obsidian_folder.load()"
   ]
  },
  {
   "cell_type": "code",
   "execution_count": 3,
   "metadata": {},
   "outputs": [],
   "source": [
    "# results-survey294574.csv\n",
    "# \"Response ID,\"\"Date submitted\"\",\"\"Last page\"\",\"\"Start language\"\",\"\"Seed\"\",\"\"Date started\"\",\"\"Date last action\"\",\"\"Referrer URL\"\",\"\"What Tasks are you working on? Which Tools are you using? Which File Formats?  e.g.:  Tasks \t\t\tTools  \t\t\tFile Formats \t\tmatrix manipulations, function plotting \t\t\tMATLAB \t\t\t.m, .mat \t\t   [I am working on ... using ... and ...][Tasks]\"\",\"\"What Tasks are you working on? Which Tools are you using? Which File Formats?  e.g.:  Tasks \t\t\tTools  \t\t\tFile Formats \t\tmatrix manipulations, function plotting \t\t\tMATLAB \t\t\t.m, .mat \t\t   [I am working on ... using ... and ...][Tools]\"\",\"\"What Tasks are you working on? Which Tools are you using? Which File Formats?  e.g.:  Tasks \t\t\tTools  \t\t\tFile Formats \t\tmatrix manipulations, function plotting \t\t\tMATLAB \t\t\t.m, .mat \t\t   [I am working on ... using ... and ...][File Formats]\"\",\"\"One isn't enough? Feel free to add as many tools and tasks as you want!  If 10 more still isn't enough, just submit the survey and do it again.  [I am also working on ... using ... and ...][Tasks]\"\",\"\"One isn't enough? Feel free to add as many tools and tasks as you want!  If 10 more still isn't enough, just submit the survey and do it again.  [I am also working on ... using ... and ...][Tools]\"\",\"\"One isn't enough? Feel free to add as many tools and tasks as you want!  If 10 more still isn't enough, just submit the survey and do it again.  [I am also working on ... using ... and ...][File Formats]\"\",\"\"One isn't enough? Feel free to add as many tools and tasks as you want!  If 10 more still isn't enough, just submit the survey and do it again.  [I am also working on ... using ... and ...][Tasks]\"\",\"\"One isn't enough? Feel free to add as many tools and tasks as you want!  If 10 more still isn't enough, just submit the survey and do it again.  [I am also working on ... using ... and ...][Tools]\"\",\"\"One isn't enough? Feel free to add as many tools and tasks as you want!  If 10 more still isn't enough, just submit the survey and do it again.  [I am also working on ... using ... and ...][File Formats]\"\",\"\"One isn't enough? Feel free to add as many tools and tasks as you want!  If 10 more still isn't enough, just submit the survey and do it again.  [I am also working on ... using ... and ...][Tasks]\"\",\"\"One isn't enough? Feel free to add as many tools and tasks as you want!  If 10 more still isn't enough, just submit the survey and do it again.  [I am also working on ... using ... and ...][Tools]\"\",\"\"One isn't enough? Feel free to add as many tools and tasks as you want!  If 10 more still isn't enough, just submit the survey and do it again.  [I am also working on ... using ... and ...][File Formats]\"\",\"\"One isn't enough? Feel free to add as many tools and tasks as you want!  If 10 more still isn't enough, just submit the survey and do it again.  [I am also working on ... using ... and ...][Tasks]\"\",\"\"One isn't enough? Feel free to add as many tools and tasks as you want!  If 10 more still isn't enough, just submit the survey and do it again.  [I am also working on ... using ... and ...][Tools]\"\",\"\"One isn't enough? Feel free to add as many tools and tasks as you want!  If 10 more still isn't enough, just submit the survey and do it again.  [I am also working on ... using ... and ...][File Formats]\"\",\"\"One isn't enough? Feel free to add as many tools and tasks as you want!  If 10 more still isn't enough, just submit the survey and do it again.  [I am also working on ... using ... and ...][Tasks]\"\",\"\"One isn't enough? Feel free to add as many tools and tasks as you want!  If 10 more still isn't enough, just submit the survey and do it again.  [I am also working on ... using ... and ...][Tools]\"\",\"\"One isn't enough? Feel free to add as many tools and tasks as you want!  If 10 more still isn't enough, just submit the survey and do it again.  [I am also working on ... using ... and ...][File Formats]\"\",\"\"One isn't enough? Feel free to add as many tools and tasks as you want!  If 10 more still isn't enough, just submit the survey and do it again.  [I am also working on ... using ... and ...][Tasks]\"\",\"\"One isn't enough? Feel free to add as many tools and tasks as you want!  If 10 more still isn't enough, just submit the survey and do it again.  [I am also working on ... using ... and ...][Tools]\"\",\"\"One isn't enough? Feel free to add as many tools and tasks as you want!  If 10 more still isn't enough, just submit the survey and do it again.  [I am also working on ... using ... and ...][File Formats]\"\",\"\"One isn't enough? Feel free to add as many tools and tasks as you want!  If 10 more still isn't enough, just submit the survey and do it again.  [I am also working on ... using ... and ...][Tasks]\"\",\"\"One isn't enough? Feel free to add as many tools and tasks as you want!  If 10 more still isn't enough, just submit the survey and do it again.  [I am also working on ... using ... and ...][Tools]\"\",\"\"One isn't enough? Feel free to add as many tools and tasks as you want!  If 10 more still isn't enough, just submit the survey and do it again.  [I am also working on ... using ... and ...][File Formats]\"\",\"\"One isn't enough? Feel free to add as many tools and tasks as you want!  If 10 more still isn't enough, just submit the survey and do it again.  [I am also working on ... using ... and ...][Tasks]\"\",\"\"One isn't enough? Feel free to add as many tools and tasks as you want!  If 10 more still isn't enough, just submit the survey and do it again.  [I am also working on ... using ... and ...][Tools]\"\",\"\"One isn't enough? Feel free to add as many tools and tasks as you want!  If 10 more still isn't enough, just submit the survey and do it again.  [I am also working on ... using ... and ...][File Formats]\"\",\"\"One isn't enough? Feel free to add as many tools and tasks as you want!  If 10 more still isn't enough, just submit the survey and do it again.  [I am also working on ... using ... and ...][Tasks]\"\",\"\"One isn't enough? Feel free to add as many tools and tasks as you want!  If 10 more still isn't enough, just submit the survey and do it again.  [I am also working on ... using ... and ...][Tools]\"\",\"\"One isn't enough? Feel free to add as many tools and tasks as you want!  If 10 more still isn't enough, just submit the survey and do it again.  [I am also working on ... using ... and ...][File Formats]\"\",\"\"One isn't enough? Feel free to add as many tools and tasks as you want!  If 10 more still isn't enough, just submit the survey and do it again.  [I am also working on ... using ... and ...][Tasks]\"\",\"\"One isn't enough? Feel free to add as many tools and tasks as you want!  If 10 more still isn't enough, just submit the survey and do it again.  [I am also working on ... using ... and ...][Tools]\"\",\"\"One isn't enough? Feel free to add as many tools and tasks as you want!  If 10 more still isn't enough, just submit the survey and do it again.  [I am also working on ... using ... and ...][File Formats]\"\",\"\"Total time\"\",\"\"Group time: \"\",\"\"Question time: Q1\"\",\"\"Question time: Q2\"\"\"\n",
    "# 2,\"2024-07-31 14:10:57\",\"1\",\"en\",\"1849060794\",\"2024-07-31 14:08:44\",\"2024-07-31 14:10:57\",\"\",\"matrix manipulations, function plotting\",\"python\",\"py, json\",\"information storage\",\"obsidian\",\"md\",\"lit. verwaltung\",\"zotero\",\"\",\"\",\"\",\"\",\"\",\"\",\"\",\"\",\"\",\"\",\"\",\"\",\"\",\"\",\"\",\"\",\"\",\"\",\"\",\"\",\"\",\"\",\"\",\"\",\"\",\"133.48\",\"133.48\",\"\",\"\"\n",
    "\n",
    "import pandas as pd\n",
    "\n",
    "def get_survey_results(file_path, start = 0, end = None):\n",
    "    # Load the CSV file into a DataFrame\n",
    "    df = pd.read_csv(file_path)\n",
    "\n",
    "    # Initialize an empty list to store the combined data\n",
    "    combined_data = []\n",
    "\n",
    "    # Iterate over each row in the DataFrame\n",
    "\n",
    "    for index, row in df.iterrows():\n",
    "        col_id = start\n",
    "        while col_id < len(row):\n",
    "            if end is not None and col_id >= end:\n",
    "                break\n",
    "            # Extract the task, tool, and file format from the row\n",
    "            task = row.iloc[col_id]\n",
    "            tool = row.iloc[col_id+1]\n",
    "            file_format = row.iloc[col_id+2]\n",
    "                \n",
    "            # Only add non-empty entries\n",
    "            if pd.notna(task) or pd.notna(tool) or pd.notna(file_format):\n",
    "                combined_data.append([task, tool, file_format])\n",
    "            col_id += 3\n",
    "    \n",
    "    return combined_data\n",
    "\n",
    "survey_data = []\n",
    "\n",
    "# Load the survey results from the two CSV files\n",
    "load_survey_results = False\n",
    "if load_survey_results:\n",
    "    survey_data += get_survey_results(\"results-survey294574.csv\", start = 8, end = 41)\n",
    "    survey_data += get_survey_results(\"results-survey589597.csv\", start = 6, end = 39)\n",
    "\n",
    "for entry in survey_data:\n",
    "    print(entry)"
   ]
  },
  {
   "cell_type": "code",
   "execution_count": 4,
   "metadata": {},
   "outputs": [],
   "source": [
    "for entry in survey_data:\n",
    "    classes = [\"process\", \"software\", \"data format specification\"]\n",
    "    relationships = [\n",
    "        [\n",
    "            None,\n",
    "            \"facilitatedBy\",\n",
    "            \"hasFormat\"\n",
    "        ],\n",
    "        [\n",
    "            \"hasTask\",\n",
    "            None,\n",
    "            \"hasFormat\"\n",
    "        ],\n",
    "        [\n",
    "            \"facilitates\",\n",
    "            \"usedBy\",\n",
    "            None\n",
    "        ]\n",
    "    ]\n",
    "    for idx, instance_label in enumerate(entry):\n",
    "        if pd.isna(instance_label):\n",
    "            continue\n",
    "        instance = Instance(instance_label, classes[idx])\n",
    "        instance.source = \"expert survey\"\n",
    "        for rel_idx, rel in enumerate(relationships[idx]):\n",
    "            if rel_idx == idx:\n",
    "                continue\n",
    "            if rel is not None:\n",
    "                value = entry[rel_idx]\n",
    "                value = \"[[{0}]]\".format(value)\n",
    "                value = [value]\n",
    "                instance.__setattr__(rel, value)\n",
    "        copy_count = 2\n",
    "        added = False\n",
    "        while instance_label in obsidian_folder.instances:\n",
    "            if obsidian_folder.instances[instance_label].source == instance.source:\n",
    "                for rel_idx, rel in enumerate(relationships[idx]):\n",
    "                    if rel_idx == idx:\n",
    "                        continue\n",
    "                    if rel is not None:\n",
    "                        instance_list = instance.__getattribute__(rel)\n",
    "                    current = None\n",
    "                    if hasattr(obsidian_folder.instances[instance_label], rel):\n",
    "                        current = obsidian_folder.instances[instance_label].__getattribute__(rel)\n",
    "                    if current:\n",
    "                        if not isinstance(current, list):\n",
    "                            current = [current]\n",
    "                        for value in current:\n",
    "                            if not value.startswith(\"[[\"):\n",
    "                                value = \"[[{0}]]\".format(value)\n",
    "                            if value not in instance_list:\n",
    "                                instance_list.append(value)\n",
    "                    for i in range(len(instance_list)):\n",
    "                        value = instance_list[i]\n",
    "                        if value.startswith('\"'):\n",
    "                            value = value[1:-1]\n",
    "                        if value.startswith(\"[[\"):\n",
    "                            value = value[2:-2]\n",
    "                        instance_list[i] = '\"[[{0}]]\"'.format(value)\n",
    "                    obsidian_folder.instances[instance_label].__setattr__(rel, instance_list)\n",
    "                added = True\n",
    "                break\n",
    "            instance_label = instance_label + \" ({0})\".format(copy_count)\n",
    "            copy_count += 1\n",
    "        if not added:\n",
    "            obsidian_folder.instances[instance_label] = instance\n",
    "if survey_data:\n",
    "    obsidian_folder.save()"
   ]
  },
  {
   "cell_type": "markdown",
   "metadata": {},
   "source": [
    "## Modify Obsidian Folder\n",
    "Now you can make any changes to your obsidian folder.\n",
    "Then execute the cells below the \"raise Exception\""
   ]
  },
  {
   "cell_type": "code",
   "execution_count": 5,
   "metadata": {},
   "outputs": [
    {
     "ename": "Exception",
     "evalue": "Stop here",
     "output_type": "error",
     "traceback": [
      "\u001b[1;31m---------------------------------------------------------------------------\u001b[0m",
      "\u001b[1;31mException\u001b[0m                                 Traceback (most recent call last)",
      "Cell \u001b[1;32mIn[5], line 1\u001b[0m\n\u001b[1;32m----> 1\u001b[0m \u001b[38;5;28;01mraise\u001b[39;00m \u001b[38;5;167;01mException\u001b[39;00m(\u001b[38;5;124m\"\u001b[39m\u001b[38;5;124mStop here\u001b[39m\u001b[38;5;124m\"\u001b[39m)\n",
      "\u001b[1;31mException\u001b[0m: Stop here"
     ]
    }
   ],
   "source": [
    "raise Exception(\"Stop here\")"
   ]
  },
  {
   "cell_type": "code",
   "execution_count": null,
   "metadata": {},
   "outputs": [],
   "source": [
    "obsidian_folder.load()"
   ]
  },
  {
   "cell_type": "code",
   "execution_count": null,
   "metadata": {},
   "outputs": [],
   "source": [
    "from bnw_tools.SLR.ontology import Ontology\n",
    "ontology = Ontology()\n",
    "ontology.load(config)\n",
    "ontology.save(config)"
   ]
  },
  {
   "cell_type": "code",
   "execution_count": null,
   "metadata": {},
   "outputs": [],
   "source": [
    "updated = False\n",
    "for label, instance in obsidian_folder.instances.items():\n",
    "    changes = ontology.add_instance(instance, force=True)\n",
    "    if changes:\n",
    "        updated = True\n",
    "for label, instance_type in obsidian_folder.classes.items():\n",
    "    changes = ontology.add_class(instance_type, force=True)\n",
    "    if changes:\n",
    "        updated = True\n",
    "if updated:\n",
    "    # ontology.confirm(config)\n",
    "    ontology.save(config)\n",
    "    print(\"Ontology updated. This does not affect the Ontology backup. Please check the changes and confirm to overwrite the backup if needed.\")\n",
    "    print(\"You can see the changes above or the entire ontology here:\")\n",
    "    print(config.ontology_path)"
   ]
  },
  {
   "cell_type": "code",
   "execution_count": null,
   "metadata": {},
   "outputs": [],
   "source": [
    "if updated:\n",
    "    print(\"Attempting to overwrite the persistent Ontology backup:\")\n",
    "    ontology.confirm(config, name=\"ontology_backup\")"
   ]
  },
  {
   "cell_type": "markdown",
   "metadata": {},
   "source": [
    "## TODO\n",
    "\n",
    "### Wikidata\n",
    "\n",
    "[https://www.wikidata.org/wiki/Wikidata:Project_chat/Archive/2024/07#API_/_Pyton_/_SPARQL_access_questions](https://www.wikidata.org/wiki/Wikidata:Project_chat/Archive/2024/07#API_/_Pyton_/_SPARQL_access_questions)\n",
    "\n",
    "https://www.wikidata.org/wiki/Wikidata:Project_chat/Archive/2024/07#Conventions_for_Knowledge_Graph_aligning"
   ]
  }
 ],
 "metadata": {
  "kernelspec": {
   "display_name": ".venv",
   "language": "python",
   "name": "python3"
  },
  "language_info": {
   "codemirror_mode": {
    "name": "ipython",
    "version": 3
   },
   "file_extension": ".py",
   "mimetype": "text/x-python",
   "name": "python",
   "nbconvert_exporter": "python",
   "pygments_lexer": "ipython3",
   "version": "3.11.6"
  }
 },
 "nbformat": 4,
 "nbformat_minor": 2
}
