{
 "cells": [
  {
   "cell_type": "code",
   "execution_count": 1,
   "metadata": {},
   "outputs": [],
   "source": [
    "from bnw_tools.SLR.config import Config\n",
    "# Usage\n",
    "config = Config()"
   ]
  },
  {
   "cell_type": "code",
   "execution_count": 2,
   "metadata": {},
   "outputs": [],
   "source": [
    "from bnw_tools.SLR.ontology import Ontology\n",
    "ontology = Ontology()\n",
    "ontology.load(config)\n",
    "ontology.save(config)"
   ]
  },
  {
   "cell_type": "code",
   "execution_count": 3,
   "metadata": {},
   "outputs": [
    {
     "name": "stdout",
     "output_type": "stream",
     "text": [
      "Loaded Obsidian folder:\n",
      "number of tempaltes: 2 (Class, Instance)\n",
      "number of classes: 5\n",
      "number of instances: 570\n",
      "Populating Obsidian folder\n",
      "Added 570 instances and 5 classes to Obsidian folder\n"
     ]
    }
   ],
   "source": [
    "from bnw_tools.SLR.builder import *\n",
    "builder = ObsidianFolderBuilder(config=config)\n",
    "builder.build()"
   ]
  },
  {
   "cell_type": "code",
   "execution_count": 4,
   "metadata": {},
   "outputs": [
    {
     "name": "stdout",
     "output_type": "stream",
     "text": [
      "Updating wmv: wikidata_uri from None to https://www.wikidata.org/wiki/Q280761 for \n"
     ]
    }
   ],
   "source": [
    "updated = False\n",
    "for label, instance in builder.instances.items():\n",
    "    changes = ontology.add_instance(instance, force=True)\n",
    "    if changes:\n",
    "        updated = True\n",
    "for label, instance_type in builder.classes.items():\n",
    "    changes = ontology.add_class(instance_type, force=True)\n",
    "    if changes:\n",
    "        updated = True\n",
    "if updated:\n",
    "    ontology.save(config)"
   ]
  },
  {
   "cell_type": "code",
   "execution_count": 5,
   "metadata": {},
   "outputs": [
    {
     "name": "stdout",
     "output_type": "stream",
     "text": [
      "y\n"
     ]
    }
   ],
   "source": [
    "ontology.confirm(config)"
   ]
  }
 ],
 "metadata": {
  "kernelspec": {
   "display_name": ".venv",
   "language": "python",
   "name": "python3"
  },
  "language_info": {
   "codemirror_mode": {
    "name": "ipython",
    "version": 3
   },
   "file_extension": ".py",
   "mimetype": "text/x-python",
   "name": "python",
   "nbconvert_exporter": "python",
   "pygments_lexer": "ipython3",
   "version": "3.11.6"
  }
 },
 "nbformat": 4,
 "nbformat_minor": 2
}
