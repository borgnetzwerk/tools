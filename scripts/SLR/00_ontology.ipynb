{
 "cells": [
  {
   "cell_type": "code",
   "execution_count": null,
   "metadata": {},
   "outputs": [],
   "source": [
    "from bnw_tools.SLR.config import Config\n",
    "# Usage\n",
    "config = Config()"
   ]
  },
  {
   "cell_type": "code",
   "execution_count": null,
   "metadata": {},
   "outputs": [],
   "source": [
    "from bnw_tools.SLR.builder import *\n",
    "obsidian_folder = ObsidianFolder(config=config)\n",
    "a=1\n",
    "# dump obsidian_folder.instances to json\n",
    "with open('obsidian_folder.json', 'w') as f:\n",
    "    data = {}\n",
    "    for k, v in obsidian_folder.instances.items():\n",
    "        keys = v.get(\"instance_of\", [])\n",
    "        if keys:\n",
    "            if len(keys) > 1:\n",
    "                print(f\"Multiple keys for {k}: {keys}\")\n",
    "            for key in keys:\n",
    "                if key not in data:\n",
    "                    data[key] = {}\n",
    "                data[key][k] = v.__dict__\n",
    "        else:\n",
    "            other = \"NO_CLASS\"\n",
    "            if other not in data:\n",
    "                data[other] = {}\n",
    "            data[other][k] = v.__dict__\n",
    "        # data[k] = v.__dict__\n",
    "\n",
    "    \n",
    "    json.dump(data, f, indent=4)\n",
    "\n",
    "# obsidian_folder.load()"
   ]
  },
  {
   "cell_type": "code",
   "execution_count": null,
   "metadata": {},
   "outputs": [],
   "source": [
    "# results-survey294574.csv\n",
    "# \"Response ID,\"\"Date submitted\"\",\"\"Last page\"\",\"\"Start language\"\",\"\"Seed\"\",\"\"Date started\"\",\"\"Date last action\"\",\"\"Referrer URL\"\",\"\"What Tasks are you working on? Which Tools are you using? Which File Formats?  e.g.:  Tasks \t\t\tTools  \t\t\tFile Formats \t\tmatrix manipulations, function plotting \t\t\tMATLAB \t\t\t.m, .mat \t\t   [I am working on ... using ... and ...][Tasks]\"\",\"\"What Tasks are you working on? Which Tools are you using? Which File Formats?  e.g.:  Tasks \t\t\tTools  \t\t\tFile Formats \t\tmatrix manipulations, function plotting \t\t\tMATLAB \t\t\t.m, .mat \t\t   [I am working on ... using ... and ...][Tools]\"\",\"\"What Tasks are you working on? Which Tools are you using? Which File Formats?  e.g.:  Tasks \t\t\tTools  \t\t\tFile Formats \t\tmatrix manipulations, function plotting \t\t\tMATLAB \t\t\t.m, .mat \t\t   [I am working on ... using ... and ...][File Formats]\"\",\"\"One isn't enough? Feel free to add as many tools and tasks as you want!  If 10 more still isn't enough, just submit the survey and do it again.  [I am also working on ... using ... and ...][Tasks]\"\",\"\"One isn't enough? Feel free to add as many tools and tasks as you want!  If 10 more still isn't enough, just submit the survey and do it again.  [I am also working on ... using ... and ...][Tools]\"\",\"\"One isn't enough? Feel free to add as many tools and tasks as you want!  If 10 more still isn't enough, just submit the survey and do it again.  [I am also working on ... using ... and ...][File Formats]\"\",\"\"One isn't enough? Feel free to add as many tools and tasks as you want!  If 10 more still isn't enough, just submit the survey and do it again.  [I am also working on ... using ... and ...][Tasks]\"\",\"\"One isn't enough? Feel free to add as many tools and tasks as you want!  If 10 more still isn't enough, just submit the survey and do it again.  [I am also working on ... using ... and ...][Tools]\"\",\"\"One isn't enough? Feel free to add as many tools and tasks as you want!  If 10 more still isn't enough, just submit the survey and do it again.  [I am also working on ... using ... and ...][File Formats]\"\",\"\"One isn't enough? Feel free to add as many tools and tasks as you want!  If 10 more still isn't enough, just submit the survey and do it again.  [I am also working on ... using ... and ...][Tasks]\"\",\"\"One isn't enough? Feel free to add as many tools and tasks as you want!  If 10 more still isn't enough, just submit the survey and do it again.  [I am also working on ... using ... and ...][Tools]\"\",\"\"One isn't enough? Feel free to add as many tools and tasks as you want!  If 10 more still isn't enough, just submit the survey and do it again.  [I am also working on ... using ... and ...][File Formats]\"\",\"\"One isn't enough? Feel free to add as many tools and tasks as you want!  If 10 more still isn't enough, just submit the survey and do it again.  [I am also working on ... using ... and ...][Tasks]\"\",\"\"One isn't enough? Feel free to add as many tools and tasks as you want!  If 10 more still isn't enough, just submit the survey and do it again.  [I am also working on ... using ... and ...][Tools]\"\",\"\"One isn't enough? Feel free to add as many tools and tasks as you want!  If 10 more still isn't enough, just submit the survey and do it again.  [I am also working on ... using ... and ...][File Formats]\"\",\"\"One isn't enough? Feel free to add as many tools and tasks as you want!  If 10 more still isn't enough, just submit the survey and do it again.  [I am also working on ... using ... and ...][Tasks]\"\",\"\"One isn't enough? Feel free to add as many tools and tasks as you want!  If 10 more still isn't enough, just submit the survey and do it again.  [I am also working on ... using ... and ...][Tools]\"\",\"\"One isn't enough? Feel free to add as many tools and tasks as you want!  If 10 more still isn't enough, just submit the survey and do it again.  [I am also working on ... using ... and ...][File Formats]\"\",\"\"One isn't enough? Feel free to add as many tools and tasks as you want!  If 10 more still isn't enough, just submit the survey and do it again.  [I am also working on ... using ... and ...][Tasks]\"\",\"\"One isn't enough? Feel free to add as many tools and tasks as you want!  If 10 more still isn't enough, just submit the survey and do it again.  [I am also working on ... using ... and ...][Tools]\"\",\"\"One isn't enough? Feel free to add as many tools and tasks as you want!  If 10 more still isn't enough, just submit the survey and do it again.  [I am also working on ... using ... and ...][File Formats]\"\",\"\"One isn't enough? Feel free to add as many tools and tasks as you want!  If 10 more still isn't enough, just submit the survey and do it again.  [I am also working on ... using ... and ...][Tasks]\"\",\"\"One isn't enough? Feel free to add as many tools and tasks as you want!  If 10 more still isn't enough, just submit the survey and do it again.  [I am also working on ... using ... and ...][Tools]\"\",\"\"One isn't enough? Feel free to add as many tools and tasks as you want!  If 10 more still isn't enough, just submit the survey and do it again.  [I am also working on ... using ... and ...][File Formats]\"\",\"\"One isn't enough? Feel free to add as many tools and tasks as you want!  If 10 more still isn't enough, just submit the survey and do it again.  [I am also working on ... using ... and ...][Tasks]\"\",\"\"One isn't enough? Feel free to add as many tools and tasks as you want!  If 10 more still isn't enough, just submit the survey and do it again.  [I am also working on ... using ... and ...][Tools]\"\",\"\"One isn't enough? Feel free to add as many tools and tasks as you want!  If 10 more still isn't enough, just submit the survey and do it again.  [I am also working on ... using ... and ...][File Formats]\"\",\"\"One isn't enough? Feel free to add as many tools and tasks as you want!  If 10 more still isn't enough, just submit the survey and do it again.  [I am also working on ... using ... and ...][Tasks]\"\",\"\"One isn't enough? Feel free to add as many tools and tasks as you want!  If 10 more still isn't enough, just submit the survey and do it again.  [I am also working on ... using ... and ...][Tools]\"\",\"\"One isn't enough? Feel free to add as many tools and tasks as you want!  If 10 more still isn't enough, just submit the survey and do it again.  [I am also working on ... using ... and ...][File Formats]\"\",\"\"One isn't enough? Feel free to add as many tools and tasks as you want!  If 10 more still isn't enough, just submit the survey and do it again.  [I am also working on ... using ... and ...][Tasks]\"\",\"\"One isn't enough? Feel free to add as many tools and tasks as you want!  If 10 more still isn't enough, just submit the survey and do it again.  [I am also working on ... using ... and ...][Tools]\"\",\"\"One isn't enough? Feel free to add as many tools and tasks as you want!  If 10 more still isn't enough, just submit the survey and do it again.  [I am also working on ... using ... and ...][File Formats]\"\",\"\"Total time\"\",\"\"Group time: \"\",\"\"Question time: Q1\"\",\"\"Question time: Q2\"\"\"\n",
    "# 2,\"2024-07-31 14:10:57\",\"1\",\"en\",\"1849060794\",\"2024-07-31 14:08:44\",\"2024-07-31 14:10:57\",\"\",\"matrix manipulations, function plotting\",\"python\",\"py, json\",\"information storage\",\"obsidian\",\"md\",\"lit. verwaltung\",\"zotero\",\"\",\"\",\"\",\"\",\"\",\"\",\"\",\"\",\"\",\"\",\"\",\"\",\"\",\"\",\"\",\"\",\"\",\"\",\"\",\"\",\"\",\"\",\"\",\"\",\"\",\"133.48\",\"133.48\",\"\",\"\"\n",
    "\n",
    "import pandas as pd\n",
    "\n",
    "def get_survey_results(file_path, start = 0, end = None):\n",
    "    # Load the CSV file into a DataFrame\n",
    "    df = pd.read_csv(file_path)\n",
    "\n",
    "    # Initialize an empty list to store the combined data\n",
    "    combined_data = []\n",
    "\n",
    "    # Iterate over each row in the DataFrame\n",
    "\n",
    "    for index, row in df.iterrows():\n",
    "        col_id = start\n",
    "        while col_id < len(row):\n",
    "            if end is not None and col_id >= end:\n",
    "                break\n",
    "            # Extract the task, tool, and file format from the row\n",
    "            task = row.iloc[col_id]\n",
    "            tool = row.iloc[col_id+1]\n",
    "            file_format = row.iloc[col_id+2]\n",
    "                \n",
    "            # Only add non-empty entries\n",
    "            if pd.notna(task) or pd.notna(tool) or pd.notna(file_format):\n",
    "                combined_data.append([task, tool, file_format])\n",
    "            col_id += 3\n",
    "    \n",
    "    return combined_data\n",
    "\n",
    "survey_data = []\n",
    "\n",
    "# Load the survey results from the two CSV files\n",
    "load_survey_results = False\n",
    "if load_survey_results:\n",
    "    survey_data += get_survey_results(\"results-survey294574.csv\", start = 8, end = 41)\n",
    "    survey_data += get_survey_results(\"results-survey589597.csv\", start = 6, end = 39)\n",
    "\n",
    "for entry in survey_data:\n",
    "    print(entry)"
   ]
  },
  {
   "cell_type": "code",
   "execution_count": null,
   "metadata": {},
   "outputs": [],
   "source": [
    "for entry in survey_data:\n",
    "    classes = [\"process\", \"software\", \"data format specification\"]\n",
    "    relationships = [\n",
    "        [\n",
    "            None,\n",
    "            \"facilitatedBy\",\n",
    "            \"hasFormat\"\n",
    "        ],\n",
    "        [\n",
    "            \"hasTask\",\n",
    "            None,\n",
    "            \"hasFormat\"\n",
    "        ],\n",
    "        [\n",
    "            \"facilitates\",\n",
    "            \"usedBy\",\n",
    "            None\n",
    "        ]\n",
    "    ]\n",
    "    for idx, instance_label in enumerate(entry):\n",
    "        if pd.isna(instance_label):\n",
    "            continue\n",
    "        instance = Instance(instance_label, classes[idx])\n",
    "        instance.source = \"expert survey\"\n",
    "        for rel_idx, rel in enumerate(relationships[idx]):\n",
    "            if rel_idx == idx:\n",
    "                continue\n",
    "            if rel is not None:\n",
    "                value = entry[rel_idx]\n",
    "                value = \"[[{0}]]\".format(value)\n",
    "                value = [value]\n",
    "                instance.__setattr__(rel, value)\n",
    "        copy_count = 2\n",
    "        added = False\n",
    "        while instance_label in obsidian_folder.instances:\n",
    "            if obsidian_folder.instances[instance_label].source == instance.source:\n",
    "                for rel_idx, rel in enumerate(relationships[idx]):\n",
    "                    if rel_idx == idx:\n",
    "                        continue\n",
    "                    if rel is not None:\n",
    "                        instance_list = instance.__getattribute__(rel)\n",
    "                    current = None\n",
    "                    if hasattr(obsidian_folder.instances[instance_label], rel):\n",
    "                        current = obsidian_folder.instances[instance_label].__getattribute__(rel)\n",
    "                    if current:\n",
    "                        if not isinstance(current, list):\n",
    "                            current = [current]\n",
    "                        for value in current:\n",
    "                            if not value.startswith(\"[[\"):\n",
    "                                value = \"[[{0}]]\".format(value)\n",
    "                            if value not in instance_list:\n",
    "                                instance_list.append(value)\n",
    "                    for i in range(len(instance_list)):\n",
    "                        value = instance_list[i]\n",
    "                        if value.startswith('\"'):\n",
    "                            value = value[1:-1]\n",
    "                        if value.startswith(\"[[\"):\n",
    "                            value = value[2:-2]\n",
    "                        instance_list[i] = '\"[[{0}]]\"'.format(value)\n",
    "                    obsidian_folder.instances[instance_label].__setattr__(rel, instance_list)\n",
    "                added = True\n",
    "                break\n",
    "            instance_label = instance_label + \" ({0})\".format(copy_count)\n",
    "            copy_count += 1\n",
    "        if not added:\n",
    "            obsidian_folder.instances[instance_label] = instance\n",
    "if survey_data:\n",
    "    obsidian_folder.save()"
   ]
  },
  {
   "cell_type": "markdown",
   "metadata": {},
   "source": [
    "## Modify Obsidian Folder\n",
    "Now you can make any changes to your obsidian folder.\n",
    "Then execute the cells below the \"raise Exception\""
   ]
  },
  {
   "cell_type": "code",
   "execution_count": null,
   "metadata": {},
   "outputs": [],
   "source": [
    "raise Exception(\"Stop here\")"
   ]
  },
  {
   "cell_type": "code",
   "execution_count": null,
   "metadata": {},
   "outputs": [],
   "source": [
    "obsidian_folder.load()"
   ]
  },
  {
   "cell_type": "code",
   "execution_count": null,
   "metadata": {},
   "outputs": [],
   "source": [
    "from bnw_tools.SLR.ontology import Ontology\n",
    "ontology = Ontology()\n",
    "ontology.load(config)\n",
    "ontology.save(config)"
   ]
  },
  {
   "cell_type": "code",
   "execution_count": null,
   "metadata": {},
   "outputs": [],
   "source": [
    "updated = False\n",
    "for label, instance in obsidian_folder.instances.items():\n",
    "    changes = ontology.add_instance(instance, force=True)\n",
    "    if changes:\n",
    "        updated = True\n",
    "for label, instance_type in obsidian_folder.classes.items():\n",
    "    changes = ontology.add_class(instance_type, force=True)\n",
    "    if changes:\n",
    "        updated = True\n",
    "if updated:\n",
    "    # ontology.confirm(config)\n",
    "    ontology.save(config)\n",
    "    print(\"Ontology updated. This does not affect the Ontology backup. Please check the changes and confirm to overwrite the backup if needed.\")\n",
    "    print(\"You can see the changes above or the entire ontology here:\")\n",
    "    print(config.ontology_path)"
   ]
  },
  {
   "cell_type": "code",
   "execution_count": null,
   "metadata": {},
   "outputs": [],
   "source": [
    "if updated:\n",
    "    print(\"Attempting to overwrite the persistent Ontology backup:\")\n",
    "    ontology.confirm(config, name=\"ontology_backup\")"
   ]
  },
  {
   "cell_type": "markdown",
   "metadata": {},
   "source": [
    "## TODO\n",
    "\n",
    "### Wikidata\n",
    "\n",
    "[https://www.wikidata.org/wiki/Wikidata:Project_chat/Archive/2024/07#API_/_Pyton_/_SPARQL_access_questions](https://www.wikidata.org/wiki/Wikidata:Project_chat/Archive/2024/07#API_/_Pyton_/_SPARQL_access_questions)\n",
    "\n",
    "https://www.wikidata.org/wiki/Wikidata:Project_chat/Archive/2024/07#Conventions_for_Knowledge_Graph_aligning"
   ]
  }
 ],
 "metadata": {
  "kernelspec": {
   "display_name": ".venv",
   "language": "python",
   "name": "python3"
  },
  "language_info": {
   "codemirror_mode": {
    "name": "ipython",
    "version": 3
   },
   "file_extension": ".py",
   "mimetype": "text/x-python",
   "name": "python",
   "nbconvert_exporter": "python",
   "pygments_lexer": "ipython3",
   "version": "3.11.6"
  }
 },
 "nbformat": 4,
 "nbformat_minor": 2
}
