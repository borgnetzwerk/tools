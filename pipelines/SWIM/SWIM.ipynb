{
 "cells": [
  {
   "cell_type": "markdown",
   "metadata": {},
   "source": [
    "# SWIM"
   ]
  },
  {
   "cell_type": "markdown",
   "metadata": {},
   "source": [
    "## Stage I: Overview"
   ]
  },
  {
   "cell_type": "markdown",
   "metadata": {},
   "source": [
    "### Task 1: Planning a review\n",
    "|Step|Result|Requirement|\n",
    ":----|:----|:----|\n",
    "|Formulate research interest|explicit informal research interest|1. formalize abstract interest<br>2. utilize central keywords|"
   ]
  },
  {
   "cell_type": "markdown",
   "metadata": {},
   "source": [
    "### Step 1.1: Formulate research interest\n",
    "```copy\n",
    "{\n",
    "  \"firstName\": \"John\",\n",
    "  \"lastName\": \"Smith\",\n",
    "  \"age\": 25\n",
    "}\n",
    "```\n"
   ]
  },
  {
   "cell_type": "markdown",
   "metadata": {},
   "source": [
    "### Task 2: Defining a scope\n",
    "|Step|Result|Requirement|\n",
    ":----|:----|:----|\n",
    "|Check for related research questions|narrowed informal research interest|3. know what previous scholarly works already covered<br>4. know what previous scholarly works were missing|\n",
    "|Refine scientific interest|specific research question|5. use specific vocabulary<br>6. state a clear scope<br>7. state a clear perspective|\n",
    "|Formulate Search Query|preliminary weighted keywords and queries|8. use relevant keywords<br>9. weight individual keywords|\n",
    "|Refine with related literature|weighted keywords and refined queries|10. extend the vocabulary<br>11. identify polysemes and synonyms|\n",
    "|Re-evaluate with domain experts|validated weighted keywords and queries|12. validate research questions<br>13. validate keywords<br>14. validate weights<br>15. validate search query|"
   ]
  },
  {
   "cell_type": "markdown",
   "metadata": {},
   "source": [
    "## Stage II\n",
    "\n",
    "### Task 3: Search\n",
    "|Step|Result|Requirement|\n",
    ":----|:----|:----|\n",
    "|Find resources|preliminary document set|16. use reliable sources<br>17. find relevant documents<br>18. find similar documents|\n",
    "|Remove duplicates and find missing documents|curated document set|19. identify duplicate documents<br>20. find unindexed documents<br>21. identify document set gaps|\n",
    "\n",
    "### Task 4: Select\n",
    "|Step|Result|Requirement|\n",
    ":----|:----|:----|\n",
    "|Extract structured data from documents|metadata|22. extract publication date<br>23. extract author(s)<br>24. extract publication venue<br>25. extract specified keywords|\n",
    "| |content|26. extract document text<br>27. differentiate chapters|\n",
    "| |bag of words|28. remove special character<br>29. identify multi-words<br>30. expand acronyms<br>31. lemmatise words<br>32. normalise words<br>33. remove stopwords|\n",
    "| |contribution statements|34. identify statements|\n",
    "|Calculate relational meassurements within the document set|document representation|35. calculate \"term frequency\" (tf) and \"term frequency - inverse document frequency\" (tf-idf)<br>36. calculate wordembedding and document embedding<br>37. represent document machine-readable|\n",
    "| |similarity of documents within the document set|38. consider synonyms<br>39. consider polysems<br>40. calculate document similarity|\n",
    "|Identify documents relevant for the research questions|relevance of documents for research question|41. represent research question machine-readable<br>42. calculate document relevancy for research question|\n",
    "\n",
    "### Task 5: Evaluate\n",
    "|Step|Result|Requirement|\n",
    ":----|:----|:----|\n",
    "|Remove out-of-scope document subset|in-scope document set|43. define in-/exclusion criteria<br>44. exclude documents|\n",
    "|Evaluate relevancy measurement|selection approval|45. evaluate similarity of documents<br>46. evaluate relevance of documents|\n",
    "|Classify document subsets|literature subsets|47. define thresholds<br>48. divide document set into subsets|"
   ]
  },
  {
   "cell_type": "markdown",
   "metadata": {},
   "source": [
    "## Stage III\n",
    "\n",
    "### Task 6: Analysis\n",
    "|Step|Result|Requirement|\n",
    ":----|:----|:----|\n",
    "|Resource annotation|contribution representation|49. annotate the document<br>50. represent the annotation machine-readable<br>51. annotate collaboratively|\n",
    "\n",
    "### Task 7: Synthesis\n",
    "|Step|Result|Requirement|\n",
    ":----|:----|:----|\n",
    "|Compare contributions|comparison|52. define comparison properties<br>53. insert contribution values|\n",
    "|Craft arguments based on findings|document claims|54. identify evidence (data)<br>55. establish warrant|\n",
    "|Critique the literature|thesis claims|56. identify evidence (claims)<br>57. identify patterns<br>58. detect fallacies<br>59. identify conflicts<br>60. resolve conflicts|"
   ]
  },
  {
   "cell_type": "markdown",
   "metadata": {},
   "source": [
    "\n",
    "## Stage IV\n",
    "\n",
    "### Task 8: Reporting\n",
    "|Task|Step|Result|Requirement|\n",
    "|:----|:----|:----|:----|\n",
    "|Reporting|write literature review|review article|61. utilise comparisons<br>62. support claims<br>63. establish outline<br>64. draft iteration(s)<br>audit iteration(s)<br>65. represent the review machine-readable|"
   ]
  },
  {
   "cell_type": "code",
   "execution_count": null,
   "metadata": {},
   "outputs": [],
   "source": []
  }
 ],
 "metadata": {
  "language_info": {
   "name": "python"
  }
 },
 "nbformat": 4,
 "nbformat_minor": 2
}
