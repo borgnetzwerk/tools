{
 "cells": [
  {
   "cell_type": "markdown",
   "metadata": {},
   "source": [
    "# SWIM"
   ]
  },
  {
   "cell_type": "markdown",
   "metadata": {},
   "source": [
    "## Stage II\n",
    "\n",
    "### Task 3: Search\n",
    "|Step|Result|Requirement|\n",
    ":----|:----|:----|\n",
    "|Find resources|preliminary document set|16. use reliable sources<br>17. find relevant documents<br>18. find similar documents|\n",
    "|Remove duplicates and find missing documents|curated document set|19. identify duplicate documents<br>20. find unindexed documents<br>21. identify document set gaps|\n",
    "\n",
    "### Task 4: Select\n",
    "|Step|Result|Requirement|\n",
    ":----|:----|:----|\n",
    "|Extract structured data from documents|metadata|22. extract publication date<br>23. extract author(s)<br>24. extract publication venue<br>25. extract specified keywords|\n",
    "| |content|26. extract document text<br>27. differentiate chapters|\n",
    "| |bag of words|28. remove special character<br>29. identify multi-words<br>30. expand acronyms<br>31. lemmatise words<br>32. normalise words<br>33. remove stopwords|\n",
    "| |contribution statements|34. identify statements|\n",
    "|Calculate relational meassurements within the document set|document representation|35. calculate \"term frequency\" (tf) and \"term frequency - inverse document frequency\" (tf-idf)<br>36. calculate wordembedding and document embedding<br>37. represent document machine-readable|\n",
    "| |similarity of documents within the document set|38. consider synonyms<br>39. consider polysems<br>40. calculate document similarity|\n",
    "|Identify documents relevant for the research questions|relevance of documents for research question|41. represent research question machine-readable<br>42. calculate document relevancy for research question|\n",
    "\n",
    "### Task 5: Evaluate\n",
    "|Step|Result|Requirement|\n",
    ":----|:----|:----|\n",
    "|Remove out-of-scope document subset|in-scope document set|43. define in-/exclusion criteria<br>44. exclude documents|\n",
    "|Evaluate relevancy measurement|selection approval|45. evaluate similarity of documents<br>46. evaluate relevance of documents|\n",
    "|Classify document subsets|literature subsets|47. define thresholds<br>48. divide document set into subsets|"
   ]
  },
  {
   "cell_type": "code",
   "execution_count": null,
   "metadata": {},
   "outputs": [],
   "source": []
  }
 ],
 "metadata": {
  "language_info": {
   "name": "python"
  }
 },
 "nbformat": 4,
 "nbformat_minor": 2
}
