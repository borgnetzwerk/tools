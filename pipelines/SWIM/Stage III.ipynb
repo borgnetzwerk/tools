{
 "cells": [
  {
   "cell_type": "markdown",
   "metadata": {},
   "source": [
    "# SWIM"
   ]
  },
  {
   "cell_type": "markdown",
   "metadata": {},
   "source": [
    "## Stage III\n",
    "\n",
    "### Task 6: Analysis\n",
    "|Step|Result|Requirement|\n",
    ":----|:----|:----|\n",
    "|Resource annotation|contribution representation|49. annotate the document<br>50. represent the annotation machine-readable<br>51. annotate collaboratively|\n",
    "\n",
    "### Task 7: Synthesis\n",
    "|Step|Result|Requirement|\n",
    ":----|:----|:----|\n",
    "|Compare contributions|comparison|52. define comparison properties<br>53. insert contribution values|\n",
    "|Craft arguments based on findings|document claims|54. identify evidence (data)<br>55. establish warrant|\n",
    "|Critique the literature|thesis claims|56. identify evidence (claims)<br>57. identify patterns<br>58. detect fallacies<br>59. identify conflicts<br>60. resolve conflicts|"
   ]
  },
  {
   "cell_type": "code",
   "execution_count": null,
   "metadata": {},
   "outputs": [],
   "source": []
  }
 ],
 "metadata": {
  "language_info": {
   "name": "python"
  }
 },
 "nbformat": 4,
 "nbformat_minor": 2
}
