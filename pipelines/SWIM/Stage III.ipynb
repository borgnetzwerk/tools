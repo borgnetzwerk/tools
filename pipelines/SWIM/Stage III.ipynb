{
 "cells": [
  {
   "cell_type": "markdown",
   "metadata": {},
   "source": [
    "# SWIM"
   ]
  },
  {
   "cell_type": "markdown",
   "metadata": {},
   "source": [
    "## Stage III\n",
    "\n"
   ]
  },
  {
   "cell_type": "markdown",
   "metadata": {},
   "source": [
    "### Task 6: Analysis\n",
    "|Step|Result|Requirement|\n",
    ":----|:----|:----|\n",
    "|Resource annotation|contribution representation|49. annotate the document<br>50. represent the annotation machine-readable<br>51. annotate collaboratively|\n"
   ]
  },
  {
   "cell_type": "markdown",
   "metadata": {},
   "source": [
    "#### Step 6.1 Resource annotation\n",
    "**Requirements:**\n",
    "* annotate the document\n",
    "* represent the annotation machine-readable\n",
    "* annotate collaboratively|"
   ]
  },
  {
   "cell_type": "markdown",
   "metadata": {},
   "source": [
    "\n",
    "### Task 7: Synthesis\n",
    "|Step|Result|Requirement|\n",
    ":----|:----|:----|\n",
    "|Compare contributions|comparison|52. define comparison properties<br>53. insert contribution values|\n",
    "|Craft arguments based on findings|document claims|54. identify evidence (data)<br>55. establish warrant|\n",
    "|Critique the literature|thesis claims|56. identify evidence (claims)<br>57. identify patterns<br>58. detect fallacies<br>59. identify conflicts<br>60. resolve conflicts|"
   ]
  },
  {
   "cell_type": "markdown",
   "metadata": {},
   "source": [
    "#### Step 7.1 Compare contributions\n",
    "**Requirements:**\n",
    "* define comparison properties\n",
    "* insert contribution values"
   ]
  },
  {
   "cell_type": "markdown",
   "metadata": {},
   "source": [
    "#### Step 7.2 Craft arguments based on findings\n",
    "**Requirements:**\n",
    "* identify evidence (data)\n",
    "* establish warrant"
   ]
  },
  {
   "cell_type": "markdown",
   "metadata": {},
   "source": [
    "#### Step 7.3 Critique the literature\n",
    "**Requirements:**\n",
    "* identify evidence (claims)\n",
    "* identify patterns\n",
    "* detect fallacies\n",
    "* identify conflicts\n",
    "* resolve conflicts "
   ]
  },
  {
   "cell_type": "code",
   "execution_count": null,
   "metadata": {},
   "outputs": [],
   "source": []
  }
 ],
 "metadata": {
  "language_info": {
   "name": "python"
  }
 },
 "nbformat": 4,
 "nbformat_minor": 2
}
