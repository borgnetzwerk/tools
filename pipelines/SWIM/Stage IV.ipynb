{
 "cells": [
  {
   "cell_type": "markdown",
   "metadata": {},
   "source": [
    "# SWIM"
   ]
  },
  {
   "cell_type": "markdown",
   "metadata": {},
   "source": [
    "\n",
    "## Stage IV\n",
    "\n",
    "### Task 8: Reporting\n",
    "|Task|Step|Result|Requirement|\n",
    "|:----|:----|:----|:----|\n",
    "|Reporting|write literature review|review article|61. utilise comparisons<br>62. support claims<br>63. establish outline<br>64. draft iteration(s)<br>audit iteration(s)<br>65. represent the review machine-readable|"
   ]
  },
  {
   "cell_type": "code",
   "execution_count": null,
   "metadata": {},
   "outputs": [],
   "source": []
  }
 ],
 "metadata": {
  "language_info": {
   "name": "python"
  }
 },
 "nbformat": 4,
 "nbformat_minor": 2
}
